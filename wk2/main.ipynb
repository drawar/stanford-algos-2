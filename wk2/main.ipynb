{
 "cells": [
  {
   "cell_type": "code",
   "execution_count": 1,
   "metadata": {},
   "outputs": [],
   "source": [
    "import csv\n",
    "from dijkstra import digraph, dijkstra\n",
    "\n",
    "edges = []\n",
    "\n",
    "with open('dijkstraData.txt') as file:\n",
    "    for line in file:\n",
    "        links = line.split('\\t')\n",
    "        tail = int(links[0])\n",
    "        for pair in links[1:-1]:\n",
    "            parts = pair.split(',')\n",
    "            head = int(parts[0])\n",
    "            weight = float(parts[1])\n",
    "            edges.append(digraph.DirectedEdge(tail, head, weight))\n",
    "\n",
    "gr = digraph.EdgeWeightedDigraph(edges)\n",
    "sol = dijkstra.DijkstraSP(gr, 1)\n",
    "d = sol.shortest_path()"
   ]
  },
  {
   "cell_type": "code",
   "execution_count": null,
   "metadata": {},
   "outputs": [],
   "source": [
    "print(gr.inc(1))"
   ]
  },
  {
   "cell_type": "code",
   "execution_count": 3,
   "metadata": {},
   "outputs": [
    {
     "name": "stdout",
     "output_type": "stream",
     "text": [
      "2599,2610,2947,2052,2367,2399,2029,2442,2505,3068,\n"
     ]
    }
   ],
   "source": [
    "s= str()\n",
    "for i in [7,37,59,82,99,115,133,165,188,197]:\n",
    "    s = s + str(int(d[i])) + ','\n",
    "print(s)"
   ]
  },
  {
   "cell_type": "code",
   "execution_count": null,
   "metadata": {
    "collapsed": true
   },
   "outputs": [],
   "source": []
  }
 ],
 "metadata": {
  "kernelspec": {
   "display_name": "Python 3",
   "language": "python",
   "name": "python3"
  },
  "language_info": {
   "codemirror_mode": {
    "name": "ipython",
    "version": 3
   },
   "file_extension": ".py",
   "mimetype": "text/x-python",
   "name": "python",
   "nbconvert_exporter": "python",
   "pygments_lexer": "ipython3",
   "version": "3.6.1"
  }
 },
 "nbformat": 4,
 "nbformat_minor": 2
}
