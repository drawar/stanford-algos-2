{
 "cells": [
  {
   "cell_type": "code",
   "execution_count": 30,
   "metadata": {},
   "outputs": [
    {
     "name": "stdout",
     "output_type": "stream",
     "text": [
      "False\n",
      "v: 1\n",
      "h: 92\n",
      "h: 198\n",
      "h: 160\n",
      "h: 200\n",
      "h: 104\n",
      "h: 80\n",
      "h: 145\n",
      "h: 170\n",
      "h: 125\n",
      "h: 40\n",
      "h: 138\n",
      "h: 150\n",
      "h: 61\n",
      "h: 140\n",
      "h: 27\n",
      "h: 49\n",
      "h: 163\n",
      "h: 169\n",
      "h: 117\n",
      "h: 114\n",
      "h: 26\n",
      "h: 11\n",
      "h: 55\n",
      "h: 159\n",
      "h: 99\n",
      "h: 173\n",
      "h: 30\n",
      "False\n",
      "v: 114\n",
      "False\n",
      "v: 140\n",
      "False\n",
      "v: 92\n",
      "False\n",
      "v: 145\n",
      "False\n",
      "v: 80\n",
      "False\n",
      "v: 198\n",
      "False\n",
      "v: 11\n",
      "False\n",
      "v: 173\n",
      "False\n",
      "v: 150\n",
      "False\n",
      "v: 99\n",
      "False\n",
      "v: 49\n",
      "False\n",
      "v: 117\n",
      "False\n",
      "v: 170\n",
      "False\n",
      "v: 125\n",
      "False\n",
      "v: 26\n",
      "False\n",
      "v: 30\n",
      "False\n",
      "v: 55\n",
      "False\n",
      "v: 160\n",
      "False\n",
      "v: 104\n",
      "False\n",
      "v: 159\n",
      "False\n",
      "v: 138\n",
      "False\n",
      "v: 27\n",
      "False\n",
      "v: 200\n",
      "False\n",
      "v: 163\n",
      "False\n",
      "v: 169\n",
      "False\n",
      "v: 40\n",
      "False\n",
      "v: 61\n",
      "{1: 0.0, 2: inf, 131: inf, 3: inf, 5: inf, 6: inf, 4: inf, 135: inf, 138: 7896.0, 11: 1913.0, 140: 546.0, 142: inf, 144: inf, 145: 648.0, 17: inf, 150: 2183.0, 26: 4122.0, 27: 7905.0, 157: inf, 30: 4612.0, 159: 7420.0, 160: 6461.0, 31: inf, 34: inf, 163: 8164.0, 162: inf, 167: inf, 40: 9047.0, 169: 8700.0, 170: 2620.0, 42: inf, 172: inf, 173: 2069.0, 43: inf, 41: inf, 44: inf, 49: 2437.0, 177: inf, 52: inf, 182: inf, 55: 6399.0, 54: inf, 57: inf, 61: 9146.0, 190: inf, 195: inf, 198: 1724.0, 70: inf, 200: 8021.0, 72: inf, 75: inf, 76: inf, 78: inf, 80: 982.0, 89: inf, 90: inf, 91: inf, 92: 647.0, 93: inf, 99: 2367.0, 101: inf, 104: 6647.0, 106: inf, 107: inf, 114: 508.0, 116: inf, 117: 2597.0, 118: inf, 119: inf, 121: inf, 122: inf, 125: 2909.0, 126: inf, 127: inf}\n"
     ]
    }
   ],
   "source": [
    "import csv\n",
    "from dijkstra import digraph, dijkstra\n",
    "\n",
    "edges = []\n",
    "\n",
    "with open('testdata.txt') as file:\n",
    "    for line in file:\n",
    "        links = line.split('\\t')\n",
    "        tail = int(links[0])\n",
    "        for pair in links[1:-1]:\n",
    "            parts = pair.split(',')\n",
    "            head = int(parts[0])\n",
    "            weight = float(parts[1])\n",
    "            edges.append(digraph.DirectedEdge(tail, head, weight))\n",
    "\n",
    "gr = digraph.EdgeWeightedDigraph(edges)\n",
    "sol = dijkstra.DijkstraSP(gr, 1)\n",
    "print(sol.shortest_path())"
   ]
  },
  {
   "cell_type": "code",
   "execution_count": null,
   "metadata": {
    "collapsed": true
   },
   "outputs": [],
   "source": []
  },
  {
   "cell_type": "code",
   "execution_count": null,
   "metadata": {
    "collapsed": true
   },
   "outputs": [],
   "source": []
  },
  {
   "cell_type": "code",
   "execution_count": null,
   "metadata": {
    "collapsed": true
   },
   "outputs": [],
   "source": []
  }
 ],
 "metadata": {
  "kernelspec": {
   "display_name": "Python 3",
   "language": "python",
   "name": "python3"
  },
  "language_info": {
   "codemirror_mode": {
    "name": "ipython",
    "version": 3
   },
   "file_extension": ".py",
   "mimetype": "text/x-python",
   "name": "python",
   "nbconvert_exporter": "python",
   "pygments_lexer": "ipython3",
   "version": "3.6.1"
  }
 },
 "nbformat": 4,
 "nbformat_minor": 2
}
